{
 "cells": [
  {
   "cell_type": "markdown",
   "id": "8406e70e",
   "metadata": {},
   "source": [
    "# Stock Price Prediction Across Market Sectors\n",
    "\n",
    "This project applies machine learning to the problem of stock price prediction, with an emphasis on sector-level diversity and company-level representation. The analysis covers all 11 sectors defined by the Global Industry Classification Standard (GICS). For each sector, a leading stock has been selected from a predefined list of 22 well-established and widely traded companies.\n",
    "\n",
    "The goal is to develop a generalizable and reproducible prediction pipeline, while gaining insight into the behavior of stocks across different industries. \n",
    "\n",
    "### GICS Sectors Covered:\n",
    "- Information Technology  \n",
    "- Health Care  \n",
    "- Financials  \n",
    "- Consumer Discretionary  \n",
    "- Communication Services  \n",
    "- Industrials  \n",
    "- Consumer Staples  \n",
    "- Energy  \n",
    "- Utilities  \n",
    "- Real Estate  \n",
    "- Materials\n"
   ]
  },
  {
   "cell_type": "markdown",
   "id": "17b822f7",
   "metadata": {},
   "source": [
    "### 📈 Dataset\n",
    "\n",
    "This project uses historical daily stock price data downloaded using the [Yahoo Finance API](https://pypi.org/project/yfinance/). The dataset includes Adjusted Close, Open, High, Low, Volume, and Close prices.\n",
    "\n",
    "We selected 22 companies across 11 sectors of the US stock market:\n",
    "\n",
    "| Sector                    | Tickers         |\n",
    "|--------------------------|-----------------|\n",
    "| Information Technology   | AAPL, MSFT      |\n",
    "| Health Care              | JNJ, UNH        |\n",
    "| Financials               | JPM, BAC        |\n",
    "| Consumer Discretionary   | AMZN, TSLA      |\n",
    "| Communication Services   | GOOGL, META     |\n",
    "| Industrials              | UNP, RTX        |\n",
    "| Consumer Staples         | PG, KO          |\n",
    "| Energy                   | XOM, CVX        |\n",
    "| Utilities                | NEE, DUK        |\n",
    "| Real Estate              | AMT, PLD        |\n",
    "| Materials                | LIN, SHW        |\n",
    "\n",
    "These companies were selected due to their market leadership, high liquidity, and rich historical data. They serve as strong representatives of their sectors and offer a diverse foundation for building and evaluating time series forecasting models.\n",
    "\n",
    "Raw data is saved in `data/raw/` as individual CSV files.\n"
   ]
  },
  {
   "cell_type": "markdown",
   "id": "62721367",
   "metadata": {},
   "source": [
    "### Basic Feature Engineering: O"
   ]
  },
  {
   "cell_type": "code",
   "execution_count": 28,
   "id": "3f1ad131",
   "metadata": {},
   "outputs": [],
   "source": [
    "import pandas as pd\n",
    "import os\n",
    "\n",
    "# Define the directory where your modified files are located\n",
    "directory = '/Users/beatawyspianska/Desktop/AIML_Projects/predict_stock_price/stock-price-predictor/data/raw/modified'  # Adjust to your directory path\n",
    "\n",
    "# List all files in the directory\n",
    "files = [f for f in os.listdir(directory) if f.endswith('.csv')]  # Adjust extension if needed\n",
    "\n",
    "# Loop through each file in the directory\n",
    "for file in files:\n",
    "    # Construct the full file path\n",
    "    file_path = os.path.join(directory, file)\n",
    "    \n",
    "    # Load the stock data\n",
    "    df = pd.read_csv(file_path, index_col=0)  # Assuming the first column is the index (Date)\n",
    "    \n",
    "    # Rename 'Price' column to 'Date' (if 'Price' exists)\n",
    "    if 'Price' in df.columns:\n",
    "        df = df.rename(columns={'Price': 'Date'})\n",
    "    \n",
    "    # Save the modified DataFrame back to the same file (overwrite)\n",
    "    df.to_csv(file_path, index=False)  # Save with the 'Date' column as regular, not as index\n"
   ]
  }
 ],
 "metadata": {
  "kernelspec": {
   "display_name": "venv",
   "language": "python",
   "name": "python3"
  },
  "language_info": {
   "codemirror_mode": {
    "name": "ipython",
    "version": 3
   },
   "file_extension": ".py",
   "mimetype": "text/x-python",
   "name": "python",
   "nbconvert_exporter": "python",
   "pygments_lexer": "ipython3",
   "version": "3.13.3"
  }
 },
 "nbformat": 4,
 "nbformat_minor": 5
}
