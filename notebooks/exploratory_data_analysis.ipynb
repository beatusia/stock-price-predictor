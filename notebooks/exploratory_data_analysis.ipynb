{
 "cells": [
  {
   "cell_type": "markdown",
   "id": "8406e70e",
   "metadata": {},
   "source": [
    "# Stock Price Prediction Across Market Sectors\n",
    "\n",
    "This project applies machine learning to the problem of stock price prediction, with an emphasis on sector-level diversity and company-level representation. The analysis covers all 11 sectors defined by the Global Industry Classification Standard (GICS). For each sector, a leading stock has been selected from a predefined list of 22 well-established and widely traded companies.\n",
    "\n",
    "The goal is to develop a generalizable and reproducible prediction pipeline, while gaining insight into the behavior of stocks across different industries. \n",
    "\n",
    "### GICS Sectors Covered:\n",
    "- Information Technology  \n",
    "- Health Care  \n",
    "- Financials  \n",
    "- Consumer Discretionary  \n",
    "- Communication Services  \n",
    "- Industrials  \n",
    "- Consumer Staples  \n",
    "- Energy  \n",
    "- Utilities  \n",
    "- Real Estate  \n",
    "- Materials\n"
   ]
  },
  {
   "cell_type": "markdown",
   "id": "17b822f7",
   "metadata": {},
   "source": [
    "### 📈 Dataset\n",
    "\n",
    "This project uses historical daily stock price data downloaded using the [Yahoo Finance API](https://pypi.org/project/yfinance/). The dataset includes Adjusted Close, Open, High, Low, Volume, and Close prices.\n",
    "\n",
    "We selected 22 companies across 11 sectors of the US stock market:\n",
    "\n",
    "| Sector                    | Tickers         |\n",
    "|--------------------------|-----------------|\n",
    "| Information Technology   | AAPL, MSFT      |\n",
    "| Health Care              | JNJ, UNH        |\n",
    "| Financials               | JPM, BAC        |\n",
    "| Consumer Discretionary   | AMZN, TSLA      |\n",
    "| Communication Services   | GOOGL, META     |\n",
    "| Industrials              | UNP, RTX        |\n",
    "| Consumer Staples         | PG, KO          |\n",
    "| Energy                   | XOM, CVX        |\n",
    "| Utilities                | NEE, DUK        |\n",
    "| Real Estate              | AMT, PLD        |\n",
    "| Materials                | LIN, SHW        |\n",
    "\n",
    "These companies were selected due to their market leadership, high liquidity, and rich historical data. They serve as strong representatives of their sectors and offer a diverse foundation for building and evaluating time series forecasting models.\n",
    "\n",
    "Raw data is saved in `data/raw/` as individual CSV files.\n"
   ]
  },
  {
   "cell_type": "code",
   "execution_count": 10,
   "id": "da251597",
   "metadata": {},
   "outputs": [
    {
     "name": "stdout",
     "output_type": "stream",
     "text": [
      "Downloading AAPL from 2000-01-01 to 2025-05-05...\n"
     ]
    },
    {
     "name": "stderr",
     "output_type": "stream",
     "text": [
      "[*********************100%***********************]  1 of 1 completed\n"
     ]
    },
    {
     "name": "stdout",
     "output_type": "stream",
     "text": [
      "Saved AAPL to data/raw/AAPL.csv\n",
      "Downloading MSFT from 2000-01-01 to 2025-05-05...\n"
     ]
    },
    {
     "name": "stderr",
     "output_type": "stream",
     "text": [
      "[*********************100%***********************]  1 of 1 completed\n"
     ]
    },
    {
     "name": "stdout",
     "output_type": "stream",
     "text": [
      "Saved MSFT to data/raw/MSFT.csv\n",
      "Downloading JNJ from 2000-01-01 to 2025-05-05...\n"
     ]
    },
    {
     "name": "stderr",
     "output_type": "stream",
     "text": [
      "[*********************100%***********************]  1 of 1 completed\n"
     ]
    },
    {
     "name": "stdout",
     "output_type": "stream",
     "text": [
      "Saved JNJ to data/raw/JNJ.csv\n",
      "Downloading UNH from 2000-01-01 to 2025-05-05...\n"
     ]
    },
    {
     "name": "stderr",
     "output_type": "stream",
     "text": [
      "[*********************100%***********************]  1 of 1 completed\n"
     ]
    },
    {
     "name": "stdout",
     "output_type": "stream",
     "text": [
      "Saved UNH to data/raw/UNH.csv\n",
      "Downloading JPM from 2000-01-01 to 2025-05-05...\n"
     ]
    },
    {
     "name": "stderr",
     "output_type": "stream",
     "text": [
      "[*********************100%***********************]  1 of 1 completed\n"
     ]
    },
    {
     "name": "stdout",
     "output_type": "stream",
     "text": [
      "Saved JPM to data/raw/JPM.csv\n",
      "Downloading BAC from 2000-01-01 to 2025-05-05...\n"
     ]
    },
    {
     "name": "stderr",
     "output_type": "stream",
     "text": [
      "[*********************100%***********************]  1 of 1 completed\n"
     ]
    },
    {
     "name": "stdout",
     "output_type": "stream",
     "text": [
      "Saved BAC to data/raw/BAC.csv\n",
      "Downloading AMZN from 2000-01-01 to 2025-05-05...\n"
     ]
    },
    {
     "name": "stderr",
     "output_type": "stream",
     "text": [
      "[*********************100%***********************]  1 of 1 completed\n"
     ]
    },
    {
     "name": "stdout",
     "output_type": "stream",
     "text": [
      "Saved AMZN to data/raw/AMZN.csv\n",
      "Downloading TSLA from 2000-01-01 to 2025-05-05...\n"
     ]
    },
    {
     "name": "stderr",
     "output_type": "stream",
     "text": [
      "[*********************100%***********************]  1 of 1 completed\n"
     ]
    },
    {
     "name": "stdout",
     "output_type": "stream",
     "text": [
      "Saved TSLA to data/raw/TSLA.csv\n",
      "Downloading GOOGL from 2000-01-01 to 2025-05-05...\n"
     ]
    },
    {
     "name": "stderr",
     "output_type": "stream",
     "text": [
      "[*********************100%***********************]  1 of 1 completed\n",
      "[*********************100%***********************]  1 of 1 completed\n"
     ]
    },
    {
     "name": "stdout",
     "output_type": "stream",
     "text": [
      "Saved GOOGL to data/raw/GOOGL.csv\n",
      "Downloading META from 2000-01-01 to 2025-05-05...\n",
      "Saved META to data/raw/META.csv\n",
      "Downloading UNP from 2000-01-01 to 2025-05-05...\n"
     ]
    },
    {
     "name": "stderr",
     "output_type": "stream",
     "text": [
      "[*********************100%***********************]  1 of 1 completed\n"
     ]
    },
    {
     "name": "stdout",
     "output_type": "stream",
     "text": [
      "Saved UNP to data/raw/UNP.csv\n",
      "Downloading RTX from 2000-01-01 to 2025-05-05...\n"
     ]
    },
    {
     "name": "stderr",
     "output_type": "stream",
     "text": [
      "[*********************100%***********************]  1 of 1 completed\n"
     ]
    },
    {
     "name": "stdout",
     "output_type": "stream",
     "text": [
      "Saved RTX to data/raw/RTX.csv\n",
      "Downloading PG from 2000-01-01 to 2025-05-05...\n"
     ]
    },
    {
     "name": "stderr",
     "output_type": "stream",
     "text": [
      "[*********************100%***********************]  1 of 1 completed\n"
     ]
    },
    {
     "name": "stdout",
     "output_type": "stream",
     "text": [
      "Saved PG to data/raw/PG.csv\n",
      "Downloading KO from 2000-01-01 to 2025-05-05...\n"
     ]
    },
    {
     "name": "stderr",
     "output_type": "stream",
     "text": [
      "[*********************100%***********************]  1 of 1 completed\n"
     ]
    },
    {
     "name": "stdout",
     "output_type": "stream",
     "text": [
      "Saved KO to data/raw/KO.csv\n",
      "Downloading XOM from 2000-01-01 to 2025-05-05...\n"
     ]
    },
    {
     "name": "stderr",
     "output_type": "stream",
     "text": [
      "[*********************100%***********************]  1 of 1 completed\n"
     ]
    },
    {
     "name": "stdout",
     "output_type": "stream",
     "text": [
      "Saved XOM to data/raw/XOM.csv\n",
      "Downloading CVX from 2000-01-01 to 2025-05-05...\n"
     ]
    },
    {
     "name": "stderr",
     "output_type": "stream",
     "text": [
      "[*********************100%***********************]  1 of 1 completed\n"
     ]
    },
    {
     "name": "stdout",
     "output_type": "stream",
     "text": [
      "Saved CVX to data/raw/CVX.csv\n",
      "Downloading NEE from 2000-01-01 to 2025-05-05...\n"
     ]
    },
    {
     "name": "stderr",
     "output_type": "stream",
     "text": [
      "[*********************100%***********************]  1 of 1 completed\n"
     ]
    },
    {
     "name": "stdout",
     "output_type": "stream",
     "text": [
      "Saved NEE to data/raw/NEE.csv\n",
      "Downloading DUK from 2000-01-01 to 2025-05-05...\n"
     ]
    },
    {
     "name": "stderr",
     "output_type": "stream",
     "text": [
      "[*********************100%***********************]  1 of 1 completed\n"
     ]
    },
    {
     "name": "stdout",
     "output_type": "stream",
     "text": [
      "Saved DUK to data/raw/DUK.csv\n",
      "Downloading AMT from 2000-01-01 to 2025-05-05...\n"
     ]
    },
    {
     "name": "stderr",
     "output_type": "stream",
     "text": [
      "[*********************100%***********************]  1 of 1 completed\n"
     ]
    },
    {
     "name": "stdout",
     "output_type": "stream",
     "text": [
      "Saved AMT to data/raw/AMT.csv\n",
      "Downloading PLD from 2000-01-01 to 2025-05-05...\n"
     ]
    },
    {
     "name": "stderr",
     "output_type": "stream",
     "text": [
      "[*********************100%***********************]  1 of 1 completed\n"
     ]
    },
    {
     "name": "stdout",
     "output_type": "stream",
     "text": [
      "Saved PLD to data/raw/PLD.csv\n",
      "Downloading LIN from 2000-01-01 to 2025-05-05...\n"
     ]
    },
    {
     "name": "stderr",
     "output_type": "stream",
     "text": [
      "[*********************100%***********************]  1 of 1 completed\n"
     ]
    },
    {
     "name": "stdout",
     "output_type": "stream",
     "text": [
      "Saved LIN to data/raw/LIN.csv\n",
      "Downloading SHW from 2000-01-01 to 2025-05-05...\n"
     ]
    },
    {
     "name": "stderr",
     "output_type": "stream",
     "text": [
      "[*********************100%***********************]  1 of 1 completed"
     ]
    },
    {
     "name": "stdout",
     "output_type": "stream",
     "text": [
      "Saved SHW to data/raw/SHW.csv\n"
     ]
    },
    {
     "name": "stderr",
     "output_type": "stream",
     "text": [
      "\n"
     ]
    }
   ],
   "source": [
    "# import necessary libraries\n",
    "import yfinance as yf\n",
    "import os\n",
    "import pandas as pd\n",
    "\n",
    "# Define your stock tickers by sector\n",
    "us_market_sectors = {\n",
    "    \"Information Technology\": [\"AAPL\", \"MSFT\"],\n",
    "    \"Health Care\": [\"JNJ\", \"UNH\"],\n",
    "    \"Financials\": [\"JPM\", \"BAC\"],\n",
    "    \"Consumer Discretionary\": [\"AMZN\", \"TSLA\"],\n",
    "    \"Communication Services\": [\"GOOGL\", \"META\"],\n",
    "    \"Industrials\": [\"UNP\", \"RTX\"],\n",
    "    \"Consumer Staples\": [\"PG\", \"KO\"],\n",
    "    \"Energy\": [\"XOM\", \"CVX\"],\n",
    "    \"Utilities\": [\"NEE\", \"DUK\"],\n",
    "    \"Real Estate\": [\"AMT\", \"PLD\"],\n",
    "    \"Materials\": [\"LIN\", \"SHW\"]\n",
    "}\n",
    "\n",
    "def download_data(tickers, start=\"2000-01-01\", end=\"2025-05-05\"):\n",
    "    os.makedirs(\"data/raw\", exist_ok=True)\n",
    "\n",
    "    for sector, symbols in tickers.items():\n",
    "        for symbol in symbols:\n",
    "            print(f\"Downloading {symbol} from {start} to {end}...\")\n",
    "            data = yf.download(symbol, start=start, end=end)\n",
    "            file_path = f\"data/raw/{symbol}.csv\"\n",
    "            data.to_csv(file_path)\n",
    "            print(f\"Saved {symbol} to {file_path}\")\n",
    "\n",
    "if __name__ == \"__main__\":\n",
    "    download_data(us_market_sectors)"
   ]
  }
 ],
 "metadata": {
  "kernelspec": {
   "display_name": "venv",
   "language": "python",
   "name": "python3"
  },
  "language_info": {
   "codemirror_mode": {
    "name": "ipython",
    "version": 3
   },
   "file_extension": ".py",
   "mimetype": "text/x-python",
   "name": "python",
   "nbconvert_exporter": "python",
   "pygments_lexer": "ipython3",
   "version": "3.13.3"
  }
 },
 "nbformat": 4,
 "nbformat_minor": 5
}
