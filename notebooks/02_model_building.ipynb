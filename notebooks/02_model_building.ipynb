{
 "cells": [
  {
   "cell_type": "markdown",
   "id": "bc9d3494",
   "metadata": {},
   "source": [
    "# 🌳📈 Stock Price Prediction Across Market Sectors\n",
    "\n",
    "This project applies machine learning to the problem of stock price prediction, with an emphasis on sector-level diversity and company-level representation. The analysis covers all 11 sectors defined by the Global Industry Classification Standard (GICS). For each sector, a leading stock has been selected from a predefined list of 22 well-established and widely traded companies.\n",
    "\n",
    "The goal is to develop a generalizable and reproducible prediction pipeline, while gaining insight into the behavior of stocks across different industries. \n",
    "\n",
    "### GICS Sectors Covered:\n",
    "- Information Technology  \n",
    "- Health Care  \n",
    "- Financials  \n",
    "- Consumer Discretionary  \n",
    "- Communication Services  \n",
    "- Industrials  \n",
    "- Consumer Staples  \n",
    "- Energy  \n",
    "- Utilities  \n",
    "- Real Estate  \n",
    "- Materials\n",
    "\n",
    "### Here we explore using Tree-based Models & Feature Importance"
   ]
  },
  {
   "cell_type": "markdown",
   "id": "8b205ca1",
   "metadata": {},
   "source": [
    "## 🏗️ 1. Project Overview\n",
    "\n",
    "In this notebook, we explore the problem of predicting future stock price returns using machine learning.\n",
    "\n",
    "We will:\n",
    "\n",
    "- Load & merge historical stock data across 11 GICS sectors.\n",
    "- Prepare and engineer features (~200+ indicators).\n",
    "- Train tree-based regression models (Random Forest, LightGBM).\n",
    "- Analyze feature importances to understand key drivers.\n",
    "- Evaluate model performance."
   ]
  },
  {
   "cell_type": "markdown",
   "id": "66cbb6da",
   "metadata": {},
   "source": [
    "## 🔄 2. Load and Merge Data"
   ]
  },
  {
   "cell_type": "code",
   "execution_count": null,
   "id": "379f01e2",
   "metadata": {
    "vscode": {
     "languageId": "plaintext"
    }
   },
   "outputs": [],
   "source": [
    "import pandas as pd\n",
    "from pathlib import Path\n",
    "\n",
    "# Define path to data\n",
    "data_path = Path(\"/Users/beatawyspianska/Desktop/AIML_Projects/predict_stock_price/stock-price-predictor/data/merged\")\n",
    "\n",
    "# Load all CSV files and combine into a single DataFrame\n",
    "dfs = []\n",
    "for file in data_path.glob(\"*.csv\"):\n",
    "    ticker = file.stem\n",
    "    df = pd.read_csv(file, parse_dates=['Date'])\n",
    "    df['TICKER'] = ticker\n",
    "    dfs.append(df)\n",
    "\n",
    "# Merge into single DataFrame\n",
    "df = pd.concat(dfs, ignore_index=True)\n",
    "\n",
    "# Sanity check\n",
    "print(f\"✅ Loaded data shape: {df.shape}\")\n",
    "df.head()\n"
   ]
  }
 ],
 "metadata": {
  "language_info": {
   "name": "python"
  }
 },
 "nbformat": 4,
 "nbformat_minor": 5
}
