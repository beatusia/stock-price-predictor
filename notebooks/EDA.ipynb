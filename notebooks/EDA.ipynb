{
 "cells": [
  {
   "cell_type": "markdown",
   "id": "8406e70e",
   "metadata": {},
   "source": [
    "# Let's start with well known, large cap stocks. We will begin with exploring the data for the following:\n",
    "\n",
    "AAPL (Apple)\n",
    "MSFT (Microsoft)\n",
    "GOOGL (Alphabet)\n",
    "TSLA (Tesla, if you want volatility)\n",
    "AMZN (Amazon)"
   ]
  },
  {
   "cell_type": "code",
   "execution_count": null,
   "id": "da251597",
   "metadata": {},
   "outputs": [
    {
     "name": "stderr",
     "output_type": "stream",
     "text": [
      "[*********************100%***********************]  1 of 1 completed\n",
      "[*********************100%***********************]  1 of 1 completed\n",
      "[*********************100%***********************]  1 of 1 completed\n",
      "[*********************100%***********************]  1 of 1 completed\n",
      "[*********************100%***********************]  1 of 1 completed"
     ]
    },
    {
     "name": "stdout",
     "output_type": "stream",
     "text": [
      "Price          Close      High       Low      Open      Volume\n",
      "Ticker          AAPL      AAPL      AAPL      AAPL        AAPL\n",
      "Date                                                          \n",
      "1995-01-03  0.285452  0.289171  0.281733  0.289171   103868800\n",
      "1995-01-04  0.292891  0.294750  0.287311  0.287311   158681600\n",
      "1995-01-05  0.289171  0.292891  0.288241  0.291960    73640000\n",
      "1995-01-06  0.312416  0.320785  0.305908  0.309627  1076622400\n",
      "1995-01-09  0.306489  0.311487  0.304977  0.309627   274086400\n",
      "Price          Close      High       Low      Open    Volume\n",
      "Ticker          MSFT      MSFT      MSFT      MSFT      MSFT\n",
      "Date                                                        \n",
      "1995-01-03  2.310187  2.360565  2.307788  2.360565  39545600\n",
      "1995-01-04  2.326980  2.331778  2.283799  2.312586  51611200\n",
      "1995-01-05  2.288597  2.341374  2.279001  2.336576  39824000\n",
      "1995-01-06  2.326980  2.350970  2.293395  2.298193  46681600\n",
      "1995-01-09  2.312586  2.341373  2.293394  2.336576  46000000\n",
      "Price          Close      High       Low      Open     Volume\n",
      "Ticker         GOOGL     GOOGL     GOOGL     GOOGL      GOOGL\n",
      "Date                                                         \n",
      "2004-08-19  2.499063  2.591713  2.389974  2.490595  893181924\n",
      "2004-08-20  2.697563  2.716741  2.503048  2.515750  456686856\n",
      "2004-08-23  2.724711  2.826327  2.715994  2.758335  365122512\n",
      "2004-08-24  2.611887  2.779504  2.579509  2.770538  304946748\n",
      "2004-08-25  2.640031  2.689843  2.587231  2.614129  183772044\n",
      "Price          Close      High       Low      Open      Volume\n",
      "Ticker          AMZN      AMZN      AMZN      AMZN        AMZN\n",
      "Date                                                          \n",
      "1997-05-15  0.097917  0.125000  0.096354  0.121875  1443120000\n",
      "1997-05-16  0.086458  0.098958  0.085417  0.098438   294000000\n",
      "1997-05-19  0.085417  0.088542  0.081250  0.088021   122136000\n",
      "1997-05-20  0.081771  0.087500  0.081771  0.086458   109344000\n",
      "1997-05-21  0.071354  0.082292  0.068750  0.081771   377064000\n",
      "Price          Close      High       Low      Open     Volume\n",
      "Ticker          TSLA      TSLA      TSLA      TSLA       TSLA\n",
      "Date                                                         \n",
      "2010-06-29  1.592667  1.666667  1.169333  1.266667  281494500\n",
      "2010-06-30  1.588667  2.028000  1.553333  1.719333  257806500\n",
      "2010-07-01  1.464000  1.728000  1.351333  1.666667  123282000\n",
      "2010-07-02  1.280000  1.540000  1.247333  1.533333   77097000\n",
      "2010-07-06  1.074000  1.333333  1.055333  1.333333  103003500\n"
     ]
    },
    {
     "name": "stderr",
     "output_type": "stream",
     "text": [
      "\n"
     ]
    }
   ],
   "source": [
    "## import packages\n",
    "import pandas as pd\n",
    "import numpy as np\n",
    "import yfinance as yf\n",
    "\n",
    "## view data for our first stock \n",
    "ticker = 'AAPL'\n",
    "data = yf.download(ticker, start=\"1995-01-01\", end=\"2024-05-04\")\n",
    "print(data.head())\n",
    "## view data for our second stock\n",
    "ticker = 'MSFT'\n",
    "data = yf.download(ticker, start=\"1995-01-01\", end=\"2024-05-04\")\n",
    "print(data.head())\n",
    "## view data for our third stock\n",
    "ticker = 'GOOGL'\n",
    "data = yf.download(ticker, start=\"1995-01-01\", end=\"2024-05-04\")\n",
    "print(data.head())\n",
    "## view data for our fourth stock\n",
    "ticker = 'AMZN'\n",
    "data = yf.download(ticker, start=\"1995-01-01\", end=\"2024-05-04\")\n",
    "print(data.head())\n",
    "## view data for our fifth stock\n",
    "ticker = 'TSLA'\n",
    "data = yf.download(ticker, start=\"1995-01-01\", end=\"2024-05-04\")\n",
    "print(data.head())\n"
   ]
  }
 ],
 "metadata": {
  "kernelspec": {
   "display_name": "venv",
   "language": "python",
   "name": "python3"
  },
  "language_info": {
   "codemirror_mode": {
    "name": "ipython",
    "version": 3
   },
   "file_extension": ".py",
   "mimetype": "text/x-python",
   "name": "python",
   "nbconvert_exporter": "python",
   "pygments_lexer": "ipython3",
   "version": "3.13.3"
  }
 },
 "nbformat": 4,
 "nbformat_minor": 5
}
